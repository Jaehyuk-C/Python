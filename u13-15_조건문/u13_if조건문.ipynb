{
 "cells": [
  {
   "cell_type": "markdown",
   "source": [
    "# Unit 13. if 조건문"
   ],
   "metadata": {}
  },
  {
   "cell_type": "markdown",
   "source": [
    "## 13.1 if 조건문"
   ],
   "metadata": {}
  },
  {
   "cell_type": "code",
   "execution_count": 1,
   "source": [
    "x = 10\r\n",
    "if x == 10:\r\n",
    "    print('It is 10.')"
   ],
   "outputs": [
    {
     "output_type": "stream",
     "name": "stdout",
     "text": [
      "It is 10.\n"
     ]
    }
   ],
   "metadata": {}
  },
  {
   "cell_type": "code",
   "execution_count": 2,
   "source": [
    "x = 9\r\n",
    "if x:                    # x가 0이 아니라면 무조건  True 를 반환\r\n",
    "    print('it is 10')"
   ],
   "outputs": [
    {
     "output_type": "stream",
     "name": "stdout",
     "text": [
      "it is 10\n"
     ]
    }
   ],
   "metadata": {}
  },
  {
   "cell_type": "markdown",
   "source": [
    "## 13.2 들여쓰기"
   ],
   "metadata": {}
  },
  {
   "cell_type": "code",
   "execution_count": 4,
   "source": [
    "x = 10\r\n",
    "\r\n",
    "if x == 10:\r\n",
    "    print('x값은')\r\n",
    "    print('10입니다.')\r\n",
    "\r\n",
    "print('언제나 출력')"
   ],
   "outputs": [
    {
     "output_type": "stream",
     "name": "stdout",
     "text": [
      "x값은\n",
      "10입니다.\n",
      "언제나 출력\n"
     ]
    }
   ],
   "metadata": {}
  },
  {
   "cell_type": "markdown",
   "source": [
    "## 13.3 중첩 if 조건문"
   ],
   "metadata": {}
  },
  {
   "cell_type": "code",
   "execution_count": 10,
   "source": [
    "x = 12\r\n",
    "\r\n",
    "if x > 10:\r\n",
    "    print('x는 10보다 큽니다.')\r\n",
    "    \r\n",
    "    if x > 15:\r\n",
    "        print('x는 15보다도 큽니다.')\r\n",
    "    if x < 15:\r\n",
    "        print('x는 15보다는 작습니다.')\r\n",
    "\r\n",
    "print('x는', x, '입니다.')\r\n"
   ],
   "outputs": [
    {
     "output_type": "stream",
     "name": "stdout",
     "text": [
      "x는 10보다 큽니다.\n",
      "x는 15보다는 작습니다.\n",
      "x는 12 입니다.\n"
     ]
    }
   ],
   "metadata": {}
  },
  {
   "cell_type": "code",
   "execution_count": 9,
   "source": [
    "x = int(input('정수를 입력하세요: '))\r\n",
    "\r\n",
    "if x > 10:\r\n",
    "    print('x는 10보다 큽니다.')\r\n",
    "    \r\n",
    "    if x > 15:\r\n",
    "        print('x는 15보다도 큽니다.')\r\n",
    "    if x < 15:\r\n",
    "        print('x는 15보다는 작습니다.')\r\n",
    "\r\n",
    "print('x는', x, '입니다.')"
   ],
   "outputs": [
    {
     "output_type": "stream",
     "name": "stdout",
     "text": [
      "x는 10보다 큽니다.\n",
      "x는 15보다는 작습니다.\n",
      "x는 14 입니다.\n"
     ]
    }
   ],
   "metadata": {}
  }
 ],
 "metadata": {
  "orig_nbformat": 4,
  "language_info": {
   "name": "python",
   "version": "3.8.10",
   "mimetype": "text/x-python",
   "codemirror_mode": {
    "name": "ipython",
    "version": 3
   },
   "pygments_lexer": "ipython3",
   "nbconvert_exporter": "python",
   "file_extension": ".py"
  },
  "kernelspec": {
   "name": "python3",
   "display_name": "Python 3.8.10 64-bit ('base': conda)"
  },
  "interpreter": {
   "hash": "ce146eaafded47a42415a64ff4a3048584aa127258cae58fc3f8870ef2fbf810"
  }
 },
 "nbformat": 4,
 "nbformat_minor": 2
}