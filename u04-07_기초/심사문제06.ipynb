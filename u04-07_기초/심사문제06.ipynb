{
 "cells": [
  {
   "cell_type": "markdown",
   "source": [
    "# Unit 6 심사문제\r\n",
    "표준 입력으로 국어, 영어, 수학, 과학 점수가 입력됩니다.<br> \r\n",
    "평균 점수를 출력하는 프로그램을 만드세요(input에서 안내 문자열은 출력하지 않아야 합니다).<br> \r\n",
    "단, 평균 점수를 출력할 때는 소수점 이하 자리는 버립니다(정수로 출력)."
   ],
   "metadata": {}
  },
  {
   "cell_type": "markdown",
   "source": [
    "### 1) 교과서 방법"
   ],
   "metadata": {}
  },
  {
   "cell_type": "code",
   "execution_count": 2,
   "source": [
    "kor, eng, mat, sci = map(int,(input('국어, 영어, 수학, 과학점수를 입력하시오: ').split()))"
   ],
   "outputs": [],
   "metadata": {}
  },
  {
   "cell_type": "code",
   "execution_count": 3,
   "source": [
    "(kor + eng + mat + sci) // 4, (kor + eng + mat + sci) / 4"
   ],
   "outputs": [
    {
     "output_type": "execute_result",
     "data": {
      "text/plain": [
       "(78, 78.75)"
      ]
     },
     "metadata": {},
     "execution_count": 3
    }
   ],
   "metadata": {}
  },
  {
   "cell_type": "code",
   "execution_count": 8,
   "source": [
    "score = list(map(int,(input('국어, 영어, 수학, 과학점수를 입력하시오: ').split())))\r\n",
    "print(score)\r\n",
    "score"
   ],
   "outputs": [
    {
     "output_type": "stream",
     "name": "stdout",
     "text": [
      "[83, 92, 87, 90]\n"
     ]
    },
    {
     "output_type": "execute_result",
     "data": {
      "text/plain": [
       "[83, 92, 87, 90]"
      ]
     },
     "metadata": {},
     "execution_count": 8
    }
   ],
   "metadata": {}
  },
  {
   "cell_type": "code",
   "execution_count": 10,
   "source": [
    "sum(score)//len(score), sum(score)/len(score)"
   ],
   "outputs": [
    {
     "output_type": "execute_result",
     "data": {
      "text/plain": [
       "(88, 88.0)"
      ]
     },
     "metadata": {},
     "execution_count": 10
    }
   ],
   "metadata": {}
  },
  {
   "cell_type": "code",
   "execution_count": 13,
   "source": [
    "import numpy as np\r\n",
    "AVG =int(np.mean(score))\r\n",
    "print(AVG)"
   ],
   "outputs": [
    {
     "output_type": "stream",
     "name": "stdout",
     "text": [
      "88\n"
     ]
    }
   ],
   "metadata": {}
  },
  {
   "cell_type": "code",
   "execution_count": 14,
   "source": [
    "import numpy as np\r\n",
    "score = np.array(list(map(int,(input('국어, 영어, 수학, 과학점수를 입력하시오: ').split()))))\r\n",
    "score"
   ],
   "outputs": [
    {
     "output_type": "execute_result",
     "data": {
      "text/plain": [
       "array([83, 97, 87, 90])"
      ]
     },
     "metadata": {},
     "execution_count": 14
    }
   ],
   "metadata": {}
  },
  {
   "cell_type": "code",
   "execution_count": 16,
   "source": [
    "int(np.mean(score))"
   ],
   "outputs": [
    {
     "output_type": "execute_result",
     "data": {
      "text/plain": [
       "89"
      ]
     },
     "metadata": {},
     "execution_count": 16
    }
   ],
   "metadata": {}
  },
  {
   "cell_type": "code",
   "execution_count": null,
   "source": [],
   "outputs": [],
   "metadata": {}
  }
 ],
 "metadata": {
  "orig_nbformat": 4,
  "language_info": {
   "name": "python",
   "version": "3.8.10",
   "mimetype": "text/x-python",
   "codemirror_mode": {
    "name": "ipython",
    "version": 3
   },
   "pygments_lexer": "ipython3",
   "nbconvert_exporter": "python",
   "file_extension": ".py"
  },
  "kernelspec": {
   "name": "python3",
   "display_name": "Python 3.8.10 64-bit ('base': conda)"
  },
  "interpreter": {
   "hash": "ce146eaafded47a42415a64ff4a3048584aa127258cae58fc3f8870ef2fbf810"
  }
 },
 "nbformat": 4,
 "nbformat_minor": 2
}