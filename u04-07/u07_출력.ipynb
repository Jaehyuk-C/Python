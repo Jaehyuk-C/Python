{
  "nbformat": 4,
  "nbformat_minor": 0,
  "metadata": {
    "colab": {
      "name": "u07_출력.ipynb",
      "provenance": []
    },
    "kernelspec": {
      "name": "python3",
      "display_name": "Python 3"
    },
    "language_info": {
      "name": "python"
    }
  },
  "cells": [
    {
      "cell_type": "markdown",
      "metadata": {
        "id": "MKZC6adpZubd"
      },
      "source": [
        "# Unit 7. 출력"
      ]
    },
    {
      "cell_type": "markdown",
      "metadata": {
        "id": "eCITU94SZ0ov"
      },
      "source": [
        "## 7.1 여러개 값을 출력"
      ]
    },
    {
      "cell_type": "code",
      "metadata": {
        "colab": {
          "base_uri": "https://localhost:8080/"
        },
        "id": "2P3ec3LmZzCY",
        "outputId": "68b8a1cb-685f-441e-dc66-2867fbcfd8c9"
      },
      "source": [
        "a, b = map(int, input('정수 두 개 입력: ').split())\n",
        "a\n",
        "b"
      ],
      "execution_count": 1,
      "outputs": [
        {
          "output_type": "stream",
          "text": [
            "정수 두 개 입력: 1 2\n"
          ],
          "name": "stdout"
        },
        {
          "output_type": "execute_result",
          "data": {
            "text/plain": [
              "2"
            ]
          },
          "metadata": {
            "tags": []
          },
          "execution_count": 1
        }
      ]
    },
    {
      "cell_type": "code",
      "metadata": {
        "colab": {
          "base_uri": "https://localhost:8080/"
        },
        "id": "8GJyukJIaEOw",
        "outputId": "9f9efb8a-c650-4c23-acb2-ad04e42e1a91"
      },
      "source": [
        "a, b = map(int, input('정수 두 개 입력: ').split())\n",
        "print(a)\n",
        "print(b)"
      ],
      "execution_count": 2,
      "outputs": [
        {
          "output_type": "stream",
          "text": [
            "정수 두 개 입력: 20 2\n",
            "20\n",
            "2\n"
          ],
          "name": "stdout"
        }
      ]
    },
    {
      "cell_type": "code",
      "metadata": {
        "colab": {
          "base_uri": "https://localhost:8080/"
        },
        "id": "VaUFTl1naYC3",
        "outputId": "5bafd26d-61e0-4a7f-d43f-d79375e7cf95"
      },
      "source": [
        "print(a, b)"
      ],
      "execution_count": 4,
      "outputs": [
        {
          "output_type": "stream",
          "text": [
            "20 2\n"
          ],
          "name": "stdout"
        }
      ]
    },
    {
      "cell_type": "code",
      "metadata": {
        "colab": {
          "base_uri": "https://localhost:8080/"
        },
        "id": "YTKXH850asJ_",
        "outputId": "d047c708-9348-4ef6-e30b-18afefa27ef5"
      },
      "source": [
        "print(a, b, sep=', ')"
      ],
      "execution_count": 5,
      "outputs": [
        {
          "output_type": "stream",
          "text": [
            "20, 2\n"
          ],
          "name": "stdout"
        }
      ]
    },
    {
      "cell_type": "markdown",
      "metadata": {
        "id": "P35zZ5XIbBH9"
      },
      "source": [
        "##  7.2 줄바꿈 활용"
      ]
    },
    {
      "cell_type": "code",
      "metadata": {
        "colab": {
          "base_uri": "https://localhost:8080/"
        },
        "id": "IaXDOJYZa5fl",
        "outputId": "41fd21ee-919b-4d67-ef48-a570b22839af"
      },
      "source": [
        "print(a, b,sep='\\n') "
      ],
      "execution_count": 8,
      "outputs": [
        {
          "output_type": "stream",
          "text": [
            "20\n",
            "2\n"
          ],
          "name": "stdout"
        }
      ]
    },
    {
      "cell_type": "code",
      "metadata": {
        "colab": {
          "base_uri": "https://localhost:8080/"
        },
        "id": "SbDQNFRqbS6Q",
        "outputId": "e2fd3c88-788e-4bb2-c855-2241297dadf7"
      },
      "source": [
        "print(a, b, sep='/\\\\')"
      ],
      "execution_count": 10,
      "outputs": [
        {
          "output_type": "stream",
          "text": [
            "20/\\2\n"
          ],
          "name": "stdout"
        }
      ]
    },
    {
      "cell_type": "code",
      "metadata": {
        "id": "iWutOLPtbwPX"
      },
      "source": [
        "# with open('/Workspace/01_PythonProgramming')"
      ],
      "execution_count": null,
      "outputs": []
    },
    {
      "cell_type": "code",
      "metadata": {
        "colab": {
          "base_uri": "https://localhost:8080/"
        },
        "id": "asPGUatocWgd",
        "outputId": "a42f888a-b85e-40a3-ebb3-d39f6232c4d9"
      },
      "source": [
        "print(a, end='입니다. ')\n",
        "print(b)"
      ],
      "execution_count": 13,
      "outputs": [
        {
          "output_type": "stream",
          "text": [
            "20입니다.2\n"
          ],
          "name": "stdout"
        }
      ]
    },
    {
      "cell_type": "code",
      "metadata": {
        "colab": {
          "base_uri": "https://localhost:8080/"
        },
        "id": "sLt-yd-fchMA",
        "outputId": "21e4c946-a873-4230-e4cb-a83d016edb41"
      },
      "source": [
        "for i in range(5):\n",
        "    print(i, end=', ')"
      ],
      "execution_count": 15,
      "outputs": [
        {
          "output_type": "stream",
          "text": [
            "0, 1, 2, 3, 4, "
          ],
          "name": "stdout"
        }
      ]
    },
    {
      "cell_type": "code",
      "metadata": {
        "id": "KDygSEFqc1EU"
      },
      "source": [
        ""
      ],
      "execution_count": null,
      "outputs": []
    }
  ]
}