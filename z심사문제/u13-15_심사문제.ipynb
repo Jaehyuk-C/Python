{
 "cells": [
  {
   "cell_type": "code",
   "execution_count": null,
   "source": [
    "age = int(input())\r\n",
    "bal = 9000\r\n",
    "\r\n",
    "if 7 = "
   ],
   "outputs": [],
   "metadata": {}
  },
  {
   "cell_type": "code",
   "execution_count": 1,
   "source": [
    "class Tmonry:\r\n",
    "    def __Init__(self, balance):\r\n",
    "        self.balance = balance\r\n",
    "\r\n",
    "    def pay(self, fare):\r\n",
    "        if self.balance > fare :\r\n",
    "            self.balance -= fare\r\n",
    "            print(f'남은 잔액은 {self.balance}원 입니다.')\r\n",
    "        else:\r\n",
    "            print('지불불가')"
   ],
   "outputs": [],
   "metadata": {}
  },
  {
   "cell_type": "code",
   "execution_count": null,
   "source": [],
   "outputs": [],
   "metadata": {}
  }
 ],
 "metadata": {
  "orig_nbformat": 4,
  "language_info": {
   "name": "python",
   "version": "3.8.10",
   "mimetype": "text/x-python",
   "codemirror_mode": {
    "name": "ipython",
    "version": 3
   },
   "pygments_lexer": "ipython3",
   "nbconvert_exporter": "python",
   "file_extension": ".py"
  },
  "kernelspec": {
   "name": "python3",
   "display_name": "Python 3.8.10 64-bit ('base': conda)"
  },
  "interpreter": {
   "hash": "ce146eaafded47a42415a64ff4a3048584aa127258cae58fc3f8870ef2fbf810"
  }
 },
 "nbformat": 4,
 "nbformat_minor": 2
}