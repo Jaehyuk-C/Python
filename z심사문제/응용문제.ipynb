{
 "cells": [
  {
   "cell_type": "code",
   "execution_count": 3,
   "source": [
    "# a<b<c인 피타고라스 수\r\n",
    "for a in range(1, 1000):\r\n",
    "    for b in range(a+1, 1000):\r\n",
    "        c = 1000 - a - b\r\n",
    "        if a < b < c and a*a + b*b == c*c:\r\n",
    "            print(a, b, c)"
   ],
   "outputs": [
    {
     "output_type": "stream",
     "name": "stdout",
     "text": [
      "200 375 425\n"
     ]
    }
   ],
   "metadata": {}
  }
 ],
 "metadata": {
  "orig_nbformat": 4,
  "language_info": {
   "name": "python",
   "version": "3.8.10",
   "mimetype": "text/x-python",
   "codemirror_mode": {
    "name": "ipython",
    "version": 3
   },
   "pygments_lexer": "ipython3",
   "nbconvert_exporter": "python",
   "file_extension": ".py"
  },
  "kernelspec": {
   "name": "python3",
   "display_name": "Python 3.8.10 64-bit ('base': conda)"
  },
  "interpreter": {
   "hash": "ce146eaafded47a42415a64ff4a3048584aa127258cae58fc3f8870ef2fbf810"
  }
 },
 "nbformat": 4,
 "nbformat_minor": 2
}