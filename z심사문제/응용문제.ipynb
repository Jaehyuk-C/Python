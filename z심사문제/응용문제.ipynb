{
 "cells": [
  {
   "cell_type": "markdown",
   "source": [
    "# 응용문제"
   ],
   "metadata": {}
  },
  {
   "cell_type": "markdown",
   "source": [
    "## 피타고라스 수"
   ],
   "metadata": {}
  },
  {
   "cell_type": "code",
   "execution_count": 3,
   "source": [
    "# a<b<c인 피타고라스 수\r\n",
    "for a in range(1, 1000):\r\n",
    "    for b in range(a+1, 1000):\r\n",
    "        c = 1000 - a - b\r\n",
    "        if a < b < c and a*a + b*b == c*c:\r\n",
    "            print(a, b, c)"
   ],
   "outputs": [
    {
     "output_type": "stream",
     "name": "stdout",
     "text": [
      "200 375 425\n"
     ]
    }
   ],
   "metadata": {}
  },
  {
   "cell_type": "code",
   "execution_count": 3,
   "source": [
    "for a in range(1, 333):\r\n",
    "    for b in range(a+1, 500):\r\n",
    "        c = 1000 - a - b\r\n",
    "        if c*c == a*a + b*b:\r\n",
    "            print(a,b,c)"
   ],
   "outputs": [
    {
     "output_type": "stream",
     "name": "stdout",
     "text": [
      "200 375 425\n"
     ]
    }
   ],
   "metadata": {}
  },
  {
   "cell_type": "code",
   "execution_count": 4,
   "source": [
    "[ (a, b, c) for a in range(1, 333)\r\n",
    "                for b in range(a+1, 500)\r\n",
    "                    for c in range(b+1, 1000)\r\n",
    "                        if a+b+c == 1000 and a*a + b*b ==c*c]"
   ],
   "outputs": [
    {
     "output_type": "execute_result",
     "data": {
      "text/plain": [
       "[(200, 375, 425)]"
      ]
     },
     "metadata": {},
     "execution_count": 4
    }
   ],
   "metadata": {}
  },
  {
   "cell_type": "markdown",
   "source": [
    "## 만 나이"
   ],
   "metadata": {}
  },
  {
   "cell_type": "code",
   "execution_count": 5,
   "source": [
    "from datetime import date\r\n",
    "today = date.today()"
   ],
   "outputs": [],
   "metadata": {}
  },
  {
   "cell_type": "code",
   "execution_count": null,
   "source": [
    "if month > today.month:\r\n",
    "    age = today.year\r\n",
    "    "
   ],
   "outputs": [],
   "metadata": {}
  },
  {
   "cell_type": "markdown",
   "source": [
    "## 디지털 시계 "
   ],
   "metadata": {}
  },
  {
   "cell_type": "code",
   "execution_count": null,
   "source": [],
   "outputs": [],
   "metadata": {}
  }
 ],
 "metadata": {
  "orig_nbformat": 4,
  "language_info": {
   "name": "python",
   "version": "3.8.10",
   "mimetype": "text/x-python",
   "codemirror_mode": {
    "name": "ipython",
    "version": 3
   },
   "pygments_lexer": "ipython3",
   "nbconvert_exporter": "python",
   "file_extension": ".py"
  },
  "kernelspec": {
   "name": "python3",
   "display_name": "Python 3.8.10 64-bit ('base': conda)"
  },
  "interpreter": {
   "hash": "ce146eaafded47a42415a64ff4a3048584aa127258cae58fc3f8870ef2fbf810"
  }
 },
 "nbformat": 4,
 "nbformat_minor": 2
}