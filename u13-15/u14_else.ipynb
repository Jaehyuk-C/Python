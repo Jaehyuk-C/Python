{
 "cells": [
  {
   "cell_type": "markdown",
   "source": [
    "# Unit 14. else"
   ],
   "metadata": {}
  },
  {
   "cell_type": "code",
   "execution_count": 1,
   "source": [
    "x = 5\r\n",
    "\r\n",
    "if x == 10:\r\n",
    "    print('It is 10')\r\n",
    "else:\r\n",
    "    print('It is not 10')"
   ],
   "outputs": [
    {
     "output_type": "stream",
     "name": "stdout",
     "text": [
      "It is not 10\n"
     ]
    }
   ],
   "metadata": {}
  },
  {
   "cell_type": "markdown",
   "source": [
    "### 3항 연산자\r\n",
    "- Java: a = (조건) ? 참값 : 거짓값"
   ],
   "metadata": {}
  },
  {
   "cell_type": "code",
   "execution_count": 2,
   "source": [
    "x = 1\r\n",
    "\r\n",
    "if x % 2 == 0:\r\n",
    "    y = 'even'\r\n",
    "else:\r\n",
    "    y = 'odd'\r\n",
    "\r\n",
    "print(y)            # 이렇게 쓰면 일이 많아짐"
   ],
   "outputs": [
    {
     "output_type": "stream",
     "name": "stdout",
     "text": [
      "odd\n"
     ]
    }
   ],
   "metadata": {}
  },
  {
   "cell_type": "code",
   "execution_count": 3,
   "source": [
    "y = 'even' if x%2 == 0 else 'odd'       # 3항 연산자로 줄일 수 있다\r\n",
    "print(y)"
   ],
   "outputs": [
    {
     "output_type": "stream",
     "name": "stdout",
     "text": [
      "odd\n"
     ]
    }
   ],
   "metadata": {}
  },
  {
   "cell_type": "code",
   "execution_count": 11,
   "source": [
    "# 90점 이상이면: 'A', 80 ~ 89: 'B', 70 ~ 79: 'C', 60 ~ 69: 'D', ~ 59: 'F'\r\n",
    "\r\n",
    "score = int(input('점수를 입력: '))\r\n",
    "\r\n",
    "if score >= 60:\r\n",
    "    grade = 'D'\r\n",
    "    if score >= 70:\r\n",
    "        grade = 'C'\r\n",
    "        if score >= 80:\r\n",
    "            grade = 'B'\r\n",
    "            if score >= 90:\r\n",
    "                grade = 'A'\r\n",
    "else: \r\n",
    "    grade = 'F'\r\n",
    "print(grade)"
   ],
   "outputs": [
    {
     "output_type": "stream",
     "name": "stdout",
     "text": [
      "A\n"
     ]
    }
   ],
   "metadata": {}
  },
  {
   "cell_type": "code",
   "execution_count": 18,
   "source": [
    "if score >= 90:\r\n",
    "    grade = 'A'\r\n",
    "else:\r\n",
    "    if score >= 80:\r\n",
    "        grade = 'B'   \r\n",
    "    else:\r\n",
    "        if score >= 80:\r\n",
    "            grade = 'C'\r\n",
    "        else:\r\n",
    "            if score >= 60:\r\n",
    "                grade = 'D'\r\n",
    "            else: \r\n",
    "                grade = 'F'\r\n",
    "print(grade)"
   ],
   "outputs": [
    {
     "output_type": "stream",
     "name": "stdout",
     "text": [
      "A\n"
     ]
    }
   ],
   "metadata": {}
  },
  {
   "cell_type": "code",
   "execution_count": 10,
   "source": [
    "score = int(input('점수를 입력: '))\r\n",
    "\r\n",
    "grade = 'A' if score >= 90 else \\\r\n",
    "            'B' if score >= 80 else \\\r\n",
    "                'C' if score >= 70 else \\\r\n",
    "                    'D' if score >= 60 else 'F'\r\n",
    "\r\n",
    "print(grade)\r\n"
   ],
   "outputs": [
    {
     "output_type": "stream",
     "name": "stdout",
     "text": [
      "F\n"
     ]
    }
   ],
   "metadata": {}
  },
  {
   "cell_type": "markdown",
   "source": [
    "### 조건식에서의 논리연산자"
   ],
   "metadata": {}
  },
  {
   "cell_type": "code",
   "execution_count": 12,
   "source": [
    "x = 5\r\n",
    "if x > 0 and x < 10:\r\n",
    "    print('10보다 작은 양의 정수 입니다.')"
   ],
   "outputs": [
    {
     "output_type": "stream",
     "name": "stdout",
     "text": [
      "10보다 작은 양의 정수 입니다.\n"
     ]
    }
   ],
   "metadata": {}
  },
  {
   "cell_type": "code",
   "execution_count": 13,
   "source": [
    "if 0 < x < 10:                                       # 파이썬만 가능\r\n",
    "    print('10보다 작은 양의 정수 입니다.')"
   ],
   "outputs": [
    {
     "output_type": "stream",
     "name": "stdout",
     "text": [
      "10보다 작은 양의 정수 입니다.\n"
     ]
    }
   ],
   "metadata": {}
  },
  {
   "cell_type": "code",
   "execution_count": null,
   "source": [],
   "outputs": [],
   "metadata": {}
  }
 ],
 "metadata": {
  "orig_nbformat": 4,
  "language_info": {
   "name": "python",
   "version": "3.8.10",
   "mimetype": "text/x-python",
   "codemirror_mode": {
    "name": "ipython",
    "version": 3
   },
   "pygments_lexer": "ipython3",
   "nbconvert_exporter": "python",
   "file_extension": ".py"
  },
  "kernelspec": {
   "name": "python3",
   "display_name": "Python 3.8.10 64-bit ('base': conda)"
  },
  "interpreter": {
   "hash": "ce146eaafded47a42415a64ff4a3048584aa127258cae58fc3f8870ef2fbf810"
  }
 },
 "nbformat": 4,
 "nbformat_minor": 2
}