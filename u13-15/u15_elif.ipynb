{
 "cells": [
  {
   "cell_type": "markdown",
   "source": [
    "# Unit 15. elif"
   ],
   "metadata": {}
  },
  {
   "cell_type": "code",
   "execution_count": 2,
   "source": [
    "x = 20\r\n",
    "if x == 10:\r\n",
    "    print('It is 10')\r\n",
    "elif x == 20:\r\n",
    "    print('It is 20')\r\n",
    "else:\r\n",
    "    print('neither 10, 20')\r\n"
   ],
   "outputs": [
    {
     "output_type": "stream",
     "name": "stdout",
     "text": [
      "It is 20\n"
     ]
    }
   ],
   "metadata": {}
  },
  {
   "cell_type": "code",
   "execution_count": 3,
   "source": [
    "# 숫자 - 입력, 3의 배수면 fizz, 5의 배수면 buzz, 15의 배수면 fizzbuzz\r\n",
    "num = int(input())\r\n",
    "if num % 15 == 0:           # 제일 작은 범위를 먼저 쓴다\r\n",
    "    print('fizzbuzz')\r\n",
    "elif num % 5 == 0:\r\n",
    "    print('buzz')\r\n",
    "elif num % 3 == 0:\r\n",
    "    print('fizz')\r\n",
    "else:\r\n",
    "    print(num)"
   ],
   "outputs": [
    {
     "output_type": "stream",
     "name": "stdout",
     "text": [
      "fizzbuzz\n"
     ]
    }
   ],
   "metadata": {}
  },
  {
   "cell_type": "code",
   "execution_count": 5,
   "source": [
    "print('Fizz'*(num%3==0) + 'Buzz'*(num%5==0) or num)    # 위에꺼 한 줄로 바꿈"
   ],
   "outputs": [
    {
     "output_type": "stream",
     "name": "stdout",
     "text": [
      "FizzBuzz\n"
     ]
    }
   ],
   "metadata": {}
  },
  {
   "cell_type": "code",
   "execution_count": null,
   "source": [],
   "outputs": [],
   "metadata": {}
  }
 ],
 "metadata": {
  "orig_nbformat": 4,
  "language_info": {
   "name": "python",
   "version": "3.8.10",
   "mimetype": "text/x-python",
   "codemirror_mode": {
    "name": "ipython",
    "version": 3
   },
   "pygments_lexer": "ipython3",
   "nbconvert_exporter": "python",
   "file_extension": ".py"
  },
  "kernelspec": {
   "name": "python3",
   "display_name": "Python 3.8.10 64-bit ('base': conda)"
  },
  "interpreter": {
   "hash": "ce146eaafded47a42415a64ff4a3048584aa127258cae58fc3f8870ef2fbf810"
  }
 },
 "nbformat": 4,
 "nbformat_minor": 2
}