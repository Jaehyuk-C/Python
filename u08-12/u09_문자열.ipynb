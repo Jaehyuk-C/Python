{
  "nbformat": 4,
  "nbformat_minor": 0,
  "metadata": {
    "colab": {
      "name": "u09_문자열.ipynb",
      "provenance": []
    },
    "kernelspec": {
      "name": "python3",
      "display_name": "Python 3"
    },
    "language_info": {
      "name": "python"
    }
  },
  "cells": [
    {
      "cell_type": "markdown",
      "metadata": {
        "id": "asqzfIwwcDu6"
      },
      "source": [
        "# Unit 9. 문자열"
      ]
    },
    {
      "cell_type": "markdown",
      "metadata": {
        "id": "EYD-dqHbcIT1"
      },
      "source": [
        ""
      ]
    },
    {
      "cell_type": "code",
      "metadata": {
        "colab": {
          "base_uri": "https://localhost:8080/"
        },
        "id": "zI5p6M8ocBiW",
        "outputId": "3021a317-79ee-4f2f-c4db-c475e37e6ff9"
      },
      "source": [
        "hello = 'Hello, World!'\n",
        "hello2 = \"Hello, World!\"\n",
        "hello, hello2"
      ],
      "execution_count": 1,
      "outputs": [
        {
          "output_type": "execute_result",
          "data": {
            "text/plain": [
              "('Hello, World!', 'Hello, World!')"
            ]
          },
          "metadata": {
            "tags": []
          },
          "execution_count": 1
        }
      ]
    },
    {
      "cell_type": "code",
      "metadata": {
        "colab": {
          "base_uri": "https://localhost:8080/",
          "height": 35
        },
        "id": "VoBZLDN1c_4i",
        "outputId": "092d84f3-ba4f-4c94-f33a-ea1d17540886"
      },
      "source": [
        "multiline = '''Hello,\n",
        "World!'''\n",
        "multiline"
      ],
      "execution_count": 2,
      "outputs": [
        {
          "output_type": "execute_result",
          "data": {
            "application/vnd.google.colaboratory.intrinsic+json": {
              "type": "string"
            },
            "text/plain": [
              "'Hello,\\nWorld!'"
            ]
          },
          "metadata": {
            "tags": []
          },
          "execution_count": 2
        }
      ]
    },
    {
      "cell_type": "code",
      "metadata": {
        "colab": {
          "base_uri": "https://localhost:8080/",
          "height": 35
        },
        "id": "J5sNEMI9dZf3",
        "outputId": "7e1f445b-2337-4815-bf7a-b5eba0a07335"
      },
      "source": [
        "multi = 'Hello,\\nWorld!'\n",
        "multi"
      ],
      "execution_count": 3,
      "outputs": [
        {
          "output_type": "execute_result",
          "data": {
            "application/vnd.google.colaboratory.intrinsic+json": {
              "type": "string"
            },
            "text/plain": [
              "'Hello,\\nWorld!'"
            ]
          },
          "metadata": {
            "tags": []
          },
          "execution_count": 3
        }
      ]
    },
    {
      "cell_type": "code",
      "metadata": {
        "colab": {
          "base_uri": "https://localhost:8080/"
        },
        "id": "KmCShMbMd2cu",
        "outputId": "b39c5687-c421-42fa-d0ea-2fd0460563a8"
      },
      "source": [
        "print(multi)"
      ],
      "execution_count": 4,
      "outputs": [
        {
          "output_type": "stream",
          "text": [
            "Hello,\n",
            "World!\n"
          ],
          "name": "stdout"
        }
      ]
    },
    {
      "cell_type": "code",
      "metadata": {
        "colab": {
          "base_uri": "https://localhost:8080/"
        },
        "id": "FxHBlOuXd58B",
        "outputId": "3b5fb9cd-8205-4a85-e1f3-edd77b80d6f6"
      },
      "source": [
        "s = \"Python isn't difficult.\"\n",
        "print(s)"
      ],
      "execution_count": 5,
      "outputs": [
        {
          "output_type": "stream",
          "text": [
            "Python isn't difficult.\n"
          ],
          "name": "stdout"
        }
      ]
    },
    {
      "cell_type": "code",
      "metadata": {
        "colab": {
          "base_uri": "https://localhost:8080/"
        },
        "id": "egwiLBDpeV_E",
        "outputId": "a9040309-11b0-4bfc-8ed1-fa35764e952f"
      },
      "source": [
        "s = 'Alice said \"I love you\"'\n",
        "print(s)"
      ],
      "execution_count": 6,
      "outputs": [
        {
          "output_type": "stream",
          "text": [
            "Alice said \"I love you\"\n"
          ],
          "name": "stdout"
        }
      ]
    },
    {
      "cell_type": "code",
      "metadata": {
        "colab": {
          "base_uri": "https://localhost:8080/"
        },
        "id": "146kr4UWetnv",
        "outputId": "bc317bd2-47b6-4696-caf3-22353d1e2296"
      },
      "source": [
        "s = 'Python isn\\'t difficult.'\n",
        "print(s)"
      ],
      "execution_count": 7,
      "outputs": [
        {
          "output_type": "stream",
          "text": [
            "Python isn't difficult.\n"
          ],
          "name": "stdout"
        }
      ]
    },
    {
      "cell_type": "code",
      "metadata": {
        "id": "ipa6TwsKe6iA"
      },
      "source": [
        ""
      ],
      "execution_count": null,
      "outputs": []
    }
  ]
}