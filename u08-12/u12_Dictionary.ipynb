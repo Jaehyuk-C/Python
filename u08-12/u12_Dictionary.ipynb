{
 "cells": [
  {
   "cell_type": "markdown",
   "source": [
    "# Uniy 12. 딕셔너리(Dictionary)"
   ],
   "metadata": {}
  },
  {
   "cell_type": "markdown",
   "source": [],
   "metadata": {}
  },
  {
   "cell_type": "code",
   "execution_count": 1,
   "source": [
    "lux = [490, 334, 550, 18.72]\r\n",
    "lux"
   ],
   "outputs": [
    {
     "output_type": "execute_result",
     "data": {
      "text/plain": [
       "[490, 334, 550, 18.72]"
      ]
     },
     "metadata": {},
     "execution_count": 1
    }
   ],
   "metadata": {}
  },
  {
   "cell_type": "code",
   "execution_count": 3,
   "source": [
    "lux = {\r\n",
    "    'health': 490,    \r\n",
    "    'mana': 334, \r\n",
    "    'melee': 550,      # 사거리\r\n",
    "    'armor': 18.72\r\n",
    "}\r\n",
    "print(lux)"
   ],
   "outputs": [
    {
     "output_type": "stream",
     "name": "stdout",
     "text": [
      "{'health': 490, 'mana': 334, 'melee': 550, 'armor': 18.72}\n"
     ]
    }
   ],
   "metadata": {}
  },
  {
   "cell_type": "markdown",
   "source": [
    "## 12.1 딕셔너리 생성"
   ],
   "metadata": {}
  },
  {
   "cell_type": "code",
   "execution_count": 4,
   "source": [
    "lux = {\r\n",
    "    'health': 490,       # 키가 중복되면 가장 뒤에 있는 값만 사용함\r\n",
    "    'health': 800, \r\n",
    "    'mana': 334, \r\n",
    "    'melee': 550, \r\n",
    "    'armor': 18.72\r\n",
    "}    \r\n",
    "print(lux)"
   ],
   "outputs": [
    {
     "output_type": "stream",
     "name": "stdout",
     "text": [
      "{'health': 800, 'mana': 334, 'melee': 550, 'armor': 18.72}\n"
     ]
    }
   ],
   "metadata": {}
  },
  {
   "cell_type": "code",
   "execution_count": 5,
   "source": [
    "a = {}\r\n",
    "b = dict()\r\n",
    "a, b"
   ],
   "outputs": [
    {
     "output_type": "execute_result",
     "data": {
      "text/plain": [
       "({}, {})"
      ]
     },
     "metadata": {},
     "execution_count": 5
    }
   ],
   "metadata": {}
  },
  {
   "cell_type": "code",
   "execution_count": 7,
   "source": [
    "el = list()    # 반목문으로 비어있는 리스트 채우기\r\n",
    "print(el)\r\n",
    "for i in range(10):\r\n",
    "    el.append(i)\r\n",
    "print(el)"
   ],
   "outputs": [
    {
     "output_type": "stream",
     "name": "stdout",
     "text": [
      "[]\n",
      "[0, 1, 2, 3, 4, 5, 6, 7, 8, 9]\n"
     ]
    }
   ],
   "metadata": {}
  },
  {
   "cell_type": "code",
   "execution_count": 10,
   "source": [
    "a = set((1,2,3))    # 세트(집합)을 만들고 싶으면 set()함수를 통해서만..\r\n",
    "a"
   ],
   "outputs": [
    {
     "output_type": "execute_result",
     "data": {
      "text/plain": [
       "{1, 2, 3}"
      ]
     },
     "metadata": {},
     "execution_count": 10
    }
   ],
   "metadata": {}
  },
  {
   "cell_type": "code",
   "execution_count": 11,
   "source": [
    "a = ['a', 'b', 'c', 'd']\r\n",
    "b = [1,2,3,4]\r\n",
    "dict(zip(a,b))    #각 요소를 하나씩 연결해준다"
   ],
   "outputs": [
    {
     "output_type": "execute_result",
     "data": {
      "text/plain": [
       "{'a': 1, 'b': 2, 'c': 3, 'd': 4}"
      ]
     },
     "metadata": {},
     "execution_count": 11
    }
   ],
   "metadata": {}
  },
  {
   "cell_type": "markdown",
   "source": [
    "### 딕셔너리 키에 접근하고 값 할당하기"
   ],
   "metadata": {}
  },
  {
   "cell_type": "code",
   "execution_count": 12,
   "source": [
    "lux"
   ],
   "outputs": [
    {
     "output_type": "execute_result",
     "data": {
      "text/plain": [
       "{'health': 800, 'mana': 334, 'melee': 550, 'armor': 18.72}"
      ]
     },
     "metadata": {},
     "execution_count": 12
    }
   ],
   "metadata": {}
  },
  {
   "cell_type": "code",
   "execution_count": 13,
   "source": [
    "lux['mana'], lux['armor']"
   ],
   "outputs": [
    {
     "output_type": "execute_result",
     "data": {
      "text/plain": [
       "(334, 18.72)"
      ]
     },
     "metadata": {},
     "execution_count": 13
    }
   ],
   "metadata": {}
  },
  {
   "cell_type": "code",
   "execution_count": 14,
   "source": [
    "# 키 값이 기존 딕셔너리에 없으면 새롭게 추가가 된다\r\n",
    "lux['new'] = 10\r\n",
    "lux"
   ],
   "outputs": [
    {
     "output_type": "execute_result",
     "data": {
      "text/plain": [
       "{'health': 800, 'mana': 334, 'melee': 550, 'armor': 18.72, 'new': 10}"
      ]
     },
     "metadata": {},
     "execution_count": 14
    }
   ],
   "metadata": {}
  },
  {
   "cell_type": "code",
   "execution_count": 15,
   "source": [
    "# 키 값이 기존에 딕셔너리에 있다면 값이 바뀐다\r\n",
    "lux['armor'] = 20\r\n",
    "lux"
   ],
   "outputs": [
    {
     "output_type": "execute_result",
     "data": {
      "text/plain": [
       "{'health': 800, 'mana': 334, 'melee': 550, 'armor': 20, 'new': 10}"
      ]
     },
     "metadata": {},
     "execution_count": 15
    }
   ],
   "metadata": {}
  },
  {
   "cell_type": "code",
   "execution_count": 16,
   "source": [
    "'mana' in lux"
   ],
   "outputs": [
    {
     "output_type": "execute_result",
     "data": {
      "text/plain": [
       "True"
      ]
     },
     "metadata": {},
     "execution_count": 16
    }
   ],
   "metadata": {}
  },
  {
   "cell_type": "code",
   "execution_count": 19,
   "source": [
    "# 마나 항목이 존재하면 -> 기존값에 +100, 없으면 50의 값으로 새로 만들어라\r\n",
    "d = dict()\r\n",
    "e = {'mana': 200}\r\n",
    "\r\n",
    "if 'mana' in d:\r\n",
    "        d['mana'] += 100\r\n",
    "else:\r\n",
    "        d['mana'] = 50\r\n",
    "\r\n",
    "if 'mana' in e:\r\n",
    "        e['mana'] += 100\r\n",
    "else:\r\n",
    "        e['mana'] = 50\r\n",
    "\r\n",
    "print(d,e)"
   ],
   "outputs": [
    {
     "output_type": "stream",
     "name": "stdout",
     "text": [
      "{'mana': 50} {'mana': 300}\n"
     ]
    }
   ],
   "metadata": {}
  },
  {
   "cell_type": "markdown",
   "source": [
    "### 딕셔너리 키의 개수"
   ],
   "metadata": {}
  },
  {
   "cell_type": "code",
   "execution_count": 22,
   "source": [
    "print(lux)\r\n",
    "print(len(lux))"
   ],
   "outputs": [
    {
     "output_type": "stream",
     "name": "stdout",
     "text": [
      "{'health': 800, 'mana': 334, 'melee': 550, 'armor': 20, 'new': 10}\n",
      "5\n"
     ]
    }
   ],
   "metadata": {}
  },
  {
   "cell_type": "markdown",
   "source": [
    "### 자료형"
   ],
   "metadata": {}
  },
  {
   "cell_type": "code",
   "execution_count": 23,
   "source": [
    "type(lux)"
   ],
   "outputs": [
    {
     "output_type": "execute_result",
     "data": {
      "text/plain": [
       "dict"
      ]
     },
     "metadata": {},
     "execution_count": 23
    }
   ],
   "metadata": {}
  },
  {
   "cell_type": "code",
   "execution_count": 26,
   "source": [
    "type(lux['new']), type(lux['armor'])"
   ],
   "outputs": [
    {
     "output_type": "execute_result",
     "data": {
      "text/plain": [
       "(int, int)"
      ]
     },
     "metadata": {},
     "execution_count": 26
    }
   ],
   "metadata": {}
  },
  {
   "cell_type": "markdown",
   "source": [
    "### 반복문, 추후 학습예정"
   ],
   "metadata": {}
  },
  {
   "cell_type": "code",
   "execution_count": 27,
   "source": [
    "lux.keys()"
   ],
   "outputs": [
    {
     "output_type": "execute_result",
     "data": {
      "text/plain": [
       "dict_keys(['health', 'mana', 'melee', 'armor', 'new'])"
      ]
     },
     "metadata": {},
     "execution_count": 27
    }
   ],
   "metadata": {}
  },
  {
   "cell_type": "code",
   "execution_count": 29,
   "source": [
    "for key in lux.keys():\r\n",
    "        print(key)\r\n",
    "        print(f'{key}: {lux[key]}')"
   ],
   "outputs": [
    {
     "output_type": "stream",
     "name": "stdout",
     "text": [
      "health\n",
      "health: 800\n",
      "mana\n",
      "mana: 334\n",
      "melee\n",
      "melee: 550\n",
      "armor\n",
      "armor: 20\n",
      "new\n",
      "new: 10\n"
     ]
    }
   ],
   "metadata": {}
  },
  {
   "cell_type": "code",
   "execution_count": 30,
   "source": [
    "for key, value in lux.items():\r\n",
    "        print(f'{key}: {value}')"
   ],
   "outputs": [
    {
     "output_type": "stream",
     "name": "stdout",
     "text": [
      "health: 800\n",
      "mana: 334\n",
      "melee: 550\n",
      "armor: 20\n",
      "new: 10\n"
     ]
    }
   ],
   "metadata": {}
  },
  {
   "cell_type": "code",
   "execution_count": null,
   "source": [],
   "outputs": [],
   "metadata": {}
  }
 ],
 "metadata": {
  "orig_nbformat": 4,
  "language_info": {
   "name": "python",
   "version": "3.8.10",
   "mimetype": "text/x-python",
   "codemirror_mode": {
    "name": "ipython",
    "version": 3
   },
   "pygments_lexer": "ipython3",
   "nbconvert_exporter": "python",
   "file_extension": ".py"
  },
  "kernelspec": {
   "name": "python3",
   "display_name": "Python 3.8.10 64-bit ('base': conda)"
  },
  "interpreter": {
   "hash": "ce146eaafded47a42415a64ff4a3048584aa127258cae58fc3f8870ef2fbf810"
  }
 },
 "nbformat": 4,
 "nbformat_minor": 2
}