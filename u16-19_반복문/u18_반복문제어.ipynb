{
 "cells": [
  {
   "cell_type": "markdown",
   "source": [
    "# Unit 18. break, continue"
   ],
   "metadata": {}
  },
  {
   "cell_type": "markdown",
   "source": [
    "## 18.1 break\r\n",
    "- while 에서 많이 사용"
   ],
   "metadata": {}
  },
  {
   "cell_type": "code",
   "execution_count": 1,
   "source": [
    "import random"
   ],
   "outputs": [],
   "metadata": {}
  },
  {
   "cell_type": "code",
   "execution_count": 3,
   "source": [
    "while True:\r\n",
    "    i = random.randint(1, 6)\r\n",
    "    print(i)\r\n",
    "    if i == 3:\r\n",
    "        break"
   ],
   "outputs": [
    {
     "output_type": "stream",
     "name": "stdout",
     "text": [
      "5\n",
      "1\n",
      "3\n"
     ]
    }
   ],
   "metadata": {}
  },
  {
   "cell_type": "code",
   "execution_count": 7,
   "source": [
    "for i in range(5):\r\n",
    "    print(i, end=(' '))\r\n",
    "    for k in range(5):\r\n",
    "        print('*',end=(''))\r\n",
    "        if i == k:\r\n",
    "            break\r\n",
    "    print()    "
   ],
   "outputs": [
    {
     "output_type": "stream",
     "name": "stdout",
     "text": [
      "0 *\n",
      "1 **\n",
      "2 ***\n",
      "3 ****\n",
      "4 *****\n"
     ]
    }
   ],
   "metadata": {}
  },
  {
   "cell_type": "markdown",
   "source": [
    "\r\n",
    "## 18.2 continue"
   ],
   "metadata": {}
  },
  {
   "cell_type": "code",
   "execution_count": 8,
   "source": [
    "for i in range(10):\r\n",
    "    if i % 2 == 0:\r\n",
    "        continue           # continue 아래는 건너뛰고 다시 처음으로 돌아가게 함\r\n",
    "    print(i)"
   ],
   "outputs": [
    {
     "output_type": "stream",
     "name": "stdout",
     "text": [
      "1\n",
      "3\n",
      "5\n",
      "7\n",
      "9\n"
     ]
    }
   ],
   "metadata": {}
  },
  {
   "cell_type": "code",
   "execution_count": null,
   "source": [],
   "outputs": [],
   "metadata": {}
  }
 ],
 "metadata": {
  "orig_nbformat": 4,
  "language_info": {
   "name": "python",
   "version": "3.8.10",
   "mimetype": "text/x-python",
   "codemirror_mode": {
    "name": "ipython",
    "version": 3
   },
   "pygments_lexer": "ipython3",
   "nbconvert_exporter": "python",
   "file_extension": ".py"
  },
  "kernelspec": {
   "name": "python3",
   "display_name": "Python 3.8.10 64-bit ('base': conda)"
  },
  "interpreter": {
   "hash": "ce146eaafded47a42415a64ff4a3048584aa127258cae58fc3f8870ef2fbf810"
  }
 },
 "nbformat": 4,
 "nbformat_minor": 2
}