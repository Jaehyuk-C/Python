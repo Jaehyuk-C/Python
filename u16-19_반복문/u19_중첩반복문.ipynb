{
 "cells": [
  {
   "cell_type": "markdown",
   "source": [
    "# Unit 19. 중첩 반복문"
   ],
   "metadata": {}
  },
  {
   "cell_type": "markdown",
   "source": [
    "## 19. 중첩(Nested) for loop\r\n",
    "- 보통 (행 -> 열)"
   ],
   "metadata": {}
  },
  {
   "cell_type": "code",
   "execution_count": 1,
   "source": [
    "for i in range(1, 6):\r\n",
    "    for k in range(10, 60, 10):            # 안쪽임, 안쪽루프가 먼저 찍힘\r\n",
    "        print(k, end=(' '))\r\n",
    "    print(i)"
   ],
   "outputs": [
    {
     "output_type": "stream",
     "name": "stdout",
     "text": [
      "10 20 30 40 50 0\n",
      "10 20 30 40 50 1\n",
      "10 20 30 40 50 2\n",
      "10 20 30 40 50 3\n",
      "10 20 30 40 50 4\n"
     ]
    }
   ],
   "metadata": {}
  },
  {
   "cell_type": "markdown",
   "source": [
    "## 19.2 별 사각형"
   ],
   "metadata": {}
  },
  {
   "cell_type": "code",
   "execution_count": 4,
   "source": [
    "for i in range(5):\r\n",
    "    for _ in range(5):\r\n",
    "        print('*', end=(''))\r\n",
    "    print()"
   ],
   "outputs": [
    {
     "output_type": "stream",
     "name": "stdout",
     "text": [
      "*****\n",
      "*****\n",
      "*****\n",
      "*****\n",
      "*****\n"
     ]
    }
   ],
   "metadata": {}
  },
  {
   "cell_type": "code",
   "execution_count": 8,
   "source": [
    "# 평행사변형\r\n",
    "for i in range(5):\r\n",
    "    print(' '*i, end=(''))\r\n",
    "    for _ in range(5):\r\n",
    "        print('*', end=(''))\r\n",
    "    print()"
   ],
   "outputs": [
    {
     "output_type": "stream",
     "name": "stdout",
     "text": [
      "*****\n",
      " *****\n",
      "  *****\n",
      "   *****\n",
      "    *****\n"
     ]
    }
   ],
   "metadata": {}
  },
  {
   "cell_type": "code",
   "execution_count": 9,
   "source": [
    "# 평행사변형 2\r\n",
    "for i in range(4):\r\n",
    "    for _ in range(0, i):\r\n",
    "        print(' ', end=(''))\r\n",
    "    for _ in range(5):\r\n",
    "        print('*', end=(''))\r\n",
    "    print()"
   ],
   "outputs": [
    {
     "output_type": "stream",
     "name": "stdout",
     "text": [
      "*****\n",
      " *****\n",
      "  *****\n",
      "   *****\n"
     ]
    }
   ],
   "metadata": {}
  },
  {
   "cell_type": "markdown",
   "source": [
    "## 19.3 계단식 별모양"
   ],
   "metadata": {}
  },
  {
   "cell_type": "code",
   "execution_count": 19,
   "source": [
    "# 궁극적으로는 다이아몬드를 그릴것이다\r\n",
    "for i in range(5):\r\n",
    "    for _ in range(i + 1):\r\n",
    "        print('*', end=(''))\r\n",
    "    print()\r\n",
    "\r\n",
    "print()\r\n",
    "\r\n",
    "for i in range(5):\r\n",
    "    print('*'*(1+i))\r\n",
    "\r\n"
   ],
   "outputs": [
    {
     "output_type": "stream",
     "name": "stdout",
     "text": [
      "*\n",
      "**\n",
      "***\n",
      "****\n",
      "*****\n",
      "\n",
      "*\n",
      "**\n",
      "***\n",
      "****\n",
      "*****\n"
     ]
    }
   ],
   "metadata": {}
  },
  {
   "cell_type": "code",
   "execution_count": 21,
   "source": [
    "for i in range(5):\r\n",
    "    for _ in range(0, i):\r\n",
    "        print(\" \", end=(''))\r\n",
    "    for _ in range(5 - i):\r\n",
    "        print('*', end=(''))\r\n",
    "    print()\r\n",
    "\r\n",
    "print()\r\n",
    "\r\n",
    "for i in range(5):\r\n",
    "    print(' '*i, '*'*(5-i))\r\n"
   ],
   "outputs": [
    {
     "output_type": "stream",
     "name": "stdout",
     "text": [
      "*****\n",
      " ****\n",
      "  ***\n",
      "   **\n",
      "    *\n",
      "\n",
      " *****\n",
      "  ****\n",
      "   ***\n",
      "    **\n",
      "     *\n"
     ]
    }
   ],
   "metadata": {}
  },
  {
   "cell_type": "code",
   "execution_count": 45,
   "source": [
    "for i in range(5):\r\n",
    "    for _ in range(4-i):\r\n",
    "        print(' ', end=(''))\r\n",
    "    for _ in range((2*i)+1):\r\n",
    "        print('*', end=(''))\r\n",
    "    print()\r\n",
    "for i in range(5):    \r\n",
    "    for _ in range(i+1):\r\n",
    "        print(' ', end=(''))\r\n",
    "    for _ in range(7-(2*i)):\r\n",
    "        print('*', end=(''))\r\n",
    "    print()"
   ],
   "outputs": [
    {
     "output_type": "stream",
     "name": "stdout",
     "text": [
      "    *\n",
      "   ***\n",
      "  *****\n",
      " *******\n",
      "*********\n",
      " *******\n",
      "  *****\n",
      "   ***\n",
      "    *\n",
      "     \n"
     ]
    }
   ],
   "metadata": {}
  },
  {
   "cell_type": "code",
   "execution_count": 50,
   "source": [
    "for i in range(5):\r\n",
    "    print(' '*(4-i), '*'*((2*i)+1), sep=(''))\r\n",
    "for i in range(5):\r\n",
    "    print(' '*(i+1), '*'*(7-(2*i)), sep=(''))"
   ],
   "outputs": [
    {
     "output_type": "stream",
     "name": "stdout",
     "text": [
      "    *\n",
      "   ***\n",
      "  *****\n",
      " *******\n",
      "*********\n",
      " *******\n",
      "  *****\n",
      "   ***\n",
      "    *\n",
      "     \n"
     ]
    }
   ],
   "metadata": {}
  },
  {
   "cell_type": "code",
   "execution_count": 51,
   "source": [
    "for i in range(-4,5):\r\n",
    "    print(' ' * (abs(i)), '*' * (-2*abs(i)+9), sep='')"
   ],
   "outputs": [
    {
     "output_type": "stream",
     "name": "stdout",
     "text": [
      "    *\n",
      "   ***\n",
      "  *****\n",
      " *******\n",
      "*********\n",
      " *******\n",
      "  *****\n",
      "   ***\n",
      "    *\n"
     ]
    }
   ],
   "metadata": {}
  },
  {
   "cell_type": "code",
   "execution_count": null,
   "source": [],
   "outputs": [],
   "metadata": {}
  }
 ],
 "metadata": {
  "orig_nbformat": 4,
  "language_info": {
   "name": "python",
   "version": "3.8.10",
   "mimetype": "text/x-python",
   "codemirror_mode": {
    "name": "ipython",
    "version": 3
   },
   "pygments_lexer": "ipython3",
   "nbconvert_exporter": "python",
   "file_extension": ".py"
  },
  "kernelspec": {
   "name": "python3",
   "display_name": "Python 3.8.10 64-bit ('base': conda)"
  },
  "interpreter": {
   "hash": "ce146eaafded47a42415a64ff4a3048584aa127258cae58fc3f8870ef2fbf810"
  }
 },
 "nbformat": 4,
 "nbformat_minor": 2
}