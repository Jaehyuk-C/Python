{
 "cells": [
  {
   "cell_type": "markdown",
   "source": [
    "# 22\r\n",
    "- 표준 입력으로 정수 두 개가 입력됩니다(첫 번째 입력 값의 범위는 1~20, 두 번째 입력 값의 범위는 10~30이며 첫 번째 입력 값은 두 번째 입력 값보다 항상 작습니다). 첫 번째 정수부터 두 번째 정수까지를 지수로 하는 2의 거듭제곱 리스트를 출력하는 프로그램을 만드세요(input에서 안내 문자열은 출력하지 않아야 합니다). 단, 리스트의 두 번째 요소와 뒤에서 두 번째 요소는 삭제한 뒤 출력하세요. 출력 결과는 리스트 형태라야 합니다.\r\n"
   ],
   "metadata": {}
  },
  {
   "cell_type": "code",
   "execution_count": 3,
   "source": [
    "fir, sec = map(int, input().split())\r\n",
    "result = [2 ** i for i in range(fir, sec+1)]\r\n",
    "result.pop(1)        # del result[1]\r\n",
    "result.pop(-2)       # del result[-2]\r\n",
    "print(result)"
   ],
   "outputs": [
    {
     "output_type": "stream",
     "name": "stdout",
     "text": [
      "[2, 8, 16, 32, 64, 128, 256, 512, 1024, 2048, 4096, 8192, 16384, 32768, 65536, 131072, 262144, 1048576]\n"
     ]
    }
   ],
   "metadata": {}
  },
  {
   "cell_type": "markdown",
   "source": [
    "# 23\r\n",
    "- 표준 입력으로 2차원 리스트의 가로(col)와 세로(row)가 입력되고 그 다음 줄부터 리스트의 요소로 들어갈 문자가 입력됩니다. 이때 2차원 리스트 안에서 *는 지뢰이고 .은 지뢰가 아닙니다. 지뢰가 아닌 요소에는 인접한 지뢰의 개수를 출력하는 프로그램을 만드세요(input에서 안내 문자열은 출력하지 않아야 합니다).\r\n",
    "\r\n",
    "- 여러 줄을 입력 받으려면 다음과 같이 for 반복문에서 input을 호출한 뒤 append로 각 줄을 추가하면 됩니다(list 안에 문자열을 넣으면 문자열이 문자 리스트로 변환됩니다).<br>\r\n",
    "\r\n",
    "matrix = []<br>\r\n",
    "for i in range(row):<br>\r\n",
    "    matrix.append(list(input()))<br>\r\n",
    "\r\n",
    "- 이 문제는 지금까지 심사문제 중에서 가장 어렵습니다. 처음 풀어보는 경우 대략 두 시간은 걸립니다. 시간을 두고 천천히 고민해서 풀어보세요. 지금까지 학습한 내용을 모두 동원해야 풀 수 있으며 막힐 때는 지금까지 학습한 내용을 다시 복습하면서 힌트를 찾아보세요."
   ],
   "metadata": {}
  },
  {
   "cell_type": "code",
   "execution_count": 28,
   "source": [
    "# 첫 풀이\r\n",
    "col, row = map(int, input().split())\r\n",
    "matrix = list()\r\n",
    "for i in range(row):\r\n",
    "    matrix.append(list(input()))\r\n",
    "for i in range(row):    \r\n",
    "    for k in range(col):\r\n",
    "        if matrix[i][k] != '*':\r\n",
    "            matrix[i][k] = 0\r\n",
    "            for y in range(i - 1, i + 2):\r\n",
    "                for x in range(k - 1, k + 2):\r\n",
    "                    if y < 0 or x < 0 or y >= row or x >= col:\r\n",
    "                        continue\r\n",
    "                    else:\r\n",
    "                        matrix[i][k] += 1\r\n",
    "        else:\r\n",
    "            continue\r\n",
    "for i in range(row):\r\n",
    "    for k in range(col):\r\n",
    "        print(matrix[i][k], end='')\r\n",
    "    print()        \r\n"
   ],
   "outputs": [
    {
     "output_type": "stream",
     "name": "stdout",
     "text": [
      "4**\n",
      "*96\n",
      "4*4\n"
     ]
    }
   ],
   "metadata": {}
  },
  {
   "cell_type": "code",
   "execution_count": 29,
   "source": [
    "col, row = map(int, input().split())\r\n",
    "matrix = []\r\n",
    "for i in range(row):\r\n",
    "    matrix.append(list(input()))\r\n",
    "for i in range(row):\r\n",
    "    for k in range(col):\r\n",
    "        if matrix[i][k] == '*':\r\n",
    "            continue\r\n",
    "        else:\r\n",
    "            matrix[i][k] = 0\r\n",
    "            for y in range(i - 1, i + 2):\r\n",
    "                for x in range(k - 1, k + 2):  \r\n",
    "                    if y < 0 or x < 0 or y >= row or x >= col:\r\n",
    "                        continue\r\n",
    "                    elif matrix[y][x] == '*':\r\n",
    "                       matrix[i][k] += 1\r\n",
    "\r\n",
    "for i in range(row):\r\n",
    "    for k in range(col):\r\n",
    "        print(matrix[i][k], end='')\r\n",
    "    print()"
   ],
   "outputs": [
    {
     "output_type": "stream",
     "name": "stdout",
     "text": [
      "2**\n",
      "*43\n",
      "2*1\n"
     ]
    }
   ],
   "metadata": {}
  },
  {
   "cell_type": "markdown",
   "source": [
    "# 24.1\r\n",
    "- 표준 입력으로 문자열이 입력됩니다. 입력된 문자열에서 'the'의 개수를 출력하는 프로그램을 만드세요(input에서 안내 문자열은 출력하지 않아야 합니다). 단, 모든 문자가 소문자인 'the'만 찾으면 되며 'them', 'there', 'their' 등은 포함하지 않아야 합니다."
   ],
   "metadata": {}
  },
  {
   "cell_type": "code",
   "execution_count": 1,
   "source": [
    "paragraph = input()\r\n",
    "words = list(paragraph.split())\r\n",
    "count = 0\r\n",
    "for i in range(len(words)):\r\n",
    "    if words[i].rstrip(',.') == 'the':\r\n",
    "        count += 1\r\n",
    "print(count)\r\n"
   ],
   "outputs": [
    {
     "output_type": "stream",
     "name": "stdout",
     "text": [
      "6\n"
     ]
    }
   ],
   "metadata": {}
  },
  {
   "cell_type": "markdown",
   "source": [
    "# 24.2\r\n",
    "- 표준 입력으로 물품 가격 여러 개가 문자열 한 줄로 입력되고, 각 가격은 ;(세미콜론)으로 구분되어 있습니다. 입력된 가격을 높은 가격순으로 출력하는 프로그램을 만드세요(input에서 안내 문자열은 출력하지 않아야 합니다). 이때 가격은 길이를 9로 만든 뒤 오른쪽으로 정렬하고 천단위로 ,(콤마)를 넣으세요."
   ],
   "metadata": {}
  },
  {
   "cell_type": "code",
   "execution_count": 8,
   "source": [
    "prices = list(map(int, input().split(';')))\r\n",
    "prices.sort(reverse=True)\r\n",
    "for i in range(len(prices)):\r\n",
    "    print(f'{prices[i]:>9,}')\r\n",
    "\r\n",
    "\r\n"
   ],
   "outputs": [
    {
     "output_type": "stream",
     "name": "stdout",
     "text": [
      "1,304,000\n",
      "  367,500\n",
      "  250,000\n",
      "  158,000\n",
      "  128,500\n",
      "   83,000\n",
      "   59,200\n",
      "   51,900\n"
     ]
    }
   ],
   "metadata": {}
  },
  {
   "cell_type": "markdown",
   "source": [
    "# 25\r\n",
    "- 표준 입력으로 문자열 여러 개와 숫자 여러 개가 두 줄로 입력되고, 첫 번째 줄은 키, 두 번째 줄은 값으로 하여 딕셔너리를 생성합니다. 다음 코드를 완성하여 딕셔너리에서 키가 'delta'인 키-값 쌍과 값이 30인 키-값 쌍을 삭제하도록 만드세요."
   ],
   "metadata": {}
  },
  {
   "cell_type": "code",
   "execution_count": 12,
   "source": [
    "keys = input().split()\r\n",
    "values = map(int, input().split())\r\n",
    " \r\n",
    "x = dict(zip(keys, values))\r\n",
    "\r\n",
    "del x['delta']\r\n",
    "x = {key: values for key, values in x.items() if values != 30}\r\n",
    "\r\n",
    "print(x)\r\n"
   ],
   "outputs": [
    {
     "output_type": "stream",
     "name": "stdout",
     "text": [
      "{'bravo': 40, 'charlie': 50, 'echo': 70, 'foxtrot': 80, 'golf': 90}\n"
     ]
    }
   ],
   "metadata": {}
  },
  {
   "cell_type": "markdown",
   "source": [
    "# 26\r\n",
    "- 표준 입력으로 양의 정수 두 개가 입력됩니다. 다음 소스 코드를 완성하여 두 숫자의 공약수를 세트 형태로 구하도록 만드세요. 단, 최종 결과는 공약수의 합으로 판단합니다."
   ],
   "metadata": {}
  },
  {
   "cell_type": "code",
   "execution_count": 16,
   "source": [
    "num1, num2 = map(int, input().split())\r\n",
    "a = {i for i in range(1, num1+1) if num1%i == 0}\r\n",
    "b = {i for i in range(1, num2+1) if num2%i == 0}\r\n",
    "\r\n",
    "divisor = a & b\r\n",
    " \r\n",
    "result = 0\r\n",
    "if type(divisor) == set:\r\n",
    "    result = sum(divisor)\r\n",
    " \r\n",
    "print(result)"
   ],
   "outputs": [
    {
     "output_type": "stream",
     "name": "stdout",
     "text": [
      "217\n"
     ]
    }
   ],
   "metadata": {}
  }
 ],
 "metadata": {
  "orig_nbformat": 4,
  "language_info": {
   "name": "python",
   "version": "3.8.10",
   "mimetype": "text/x-python",
   "codemirror_mode": {
    "name": "ipython",
    "version": 3
   },
   "pygments_lexer": "ipython3",
   "nbconvert_exporter": "python",
   "file_extension": ".py"
  },
  "kernelspec": {
   "name": "python3",
   "display_name": "Python 3.8.10 64-bit ('base': conda)"
  },
  "interpreter": {
   "hash": "ce146eaafded47a42415a64ff4a3048584aa127258cae58fc3f8870ef2fbf810"
  }
 },
 "nbformat": 4,
 "nbformat_minor": 2
}