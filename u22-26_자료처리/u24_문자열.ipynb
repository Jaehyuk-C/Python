{
 "cells": [
  {
   "cell_type": "markdown",
   "source": [
    "# Unit 24. 문자열"
   ],
   "metadata": {}
  },
  {
   "cell_type": "markdown",
   "source": [
    "## 24.1 문자열 조작"
   ],
   "metadata": {}
  },
  {
   "cell_type": "markdown",
   "source": [
    "### 문자열 바꾸기"
   ],
   "metadata": {}
  },
  {
   "cell_type": "code",
   "execution_count": 6,
   "source": [
    "# 그냥 쓰면 replace는 저장이 안된다\r\n",
    "s = 'Hello, World!'\r\n",
    "s.replace('World', 'Python')\r\n",
    "print(s)\r\n",
    "s = s.replace('World', 'Python')\r\n",
    "print(s)"
   ],
   "outputs": [
    {
     "output_type": "stream",
     "name": "stdout",
     "text": [
      "Hello, World!\n",
      "Hello, Python!\n"
     ]
    }
   ],
   "metadata": {}
  },
  {
   "cell_type": "code",
   "execution_count": 4,
   "source": [
    "s"
   ],
   "outputs": [
    {
     "output_type": "execute_result",
     "data": {
      "text/plain": [
       "'Hello, World!'"
      ]
     },
     "metadata": {},
     "execution_count": 4
    }
   ],
   "metadata": {}
  },
  {
   "cell_type": "markdown",
   "source": [
    "### 문자열 분리"
   ],
   "metadata": {}
  },
  {
   "cell_type": "code",
   "execution_count": null,
   "source": [],
   "outputs": [],
   "metadata": {}
  }
 ],
 "metadata": {
  "orig_nbformat": 4,
  "language_info": {
   "name": "python",
   "version": "3.8.10",
   "mimetype": "text/x-python",
   "codemirror_mode": {
    "name": "ipython",
    "version": 3
   },
   "pygments_lexer": "ipython3",
   "nbconvert_exporter": "python",
   "file_extension": ".py"
  },
  "kernelspec": {
   "name": "python3",
   "display_name": "Python 3.8.10 64-bit ('base': conda)"
  },
  "interpreter": {
   "hash": "ce146eaafded47a42415a64ff4a3048584aa127258cae58fc3f8870ef2fbf810"
  }
 },
 "nbformat": 4,
 "nbformat_minor": 2
}